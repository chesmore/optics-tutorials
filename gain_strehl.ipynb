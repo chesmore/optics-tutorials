{
 "cells": [
  {
   "cell_type": "markdown",
   "metadata": {},
   "source": [
    "## Gain-Normalization and Strehl Ratio"
   ]
  },
  {
   "cell_type": "markdown",
   "metadata": {},
   "source": [
    "#### Grace E. Chesmore\n",
    "\n",
    "When analyzing a beam of an antenna (or any signal source), we often want to know its **gain**, or directional power.  Knowing the gain of a beam allows us to determine the optical quality of the system, which is quantified as the **Strehl ratio**.\n",
    "\n",
    "This example is tailored for radio holograph-astronomy, but can be applied to any far-field beam pattern.  Let's consider a point-spread function.  We will use the expression for an Airy pattern, with aperture diameter $D$, at wavelength $\\lambda$ [[1](https://en.wikipedia.org/wiki/Airy_disk)].\n",
    "\n",
    "$$I(\\theta) = I_0 \\bigg ( \\frac{2J_1(\\pi D \\sin(\\theta)/\\lambda)}{\\pi D \\sin(\\theta)/\\lambda)} \\bigg ) ^2$$\n",
    "\n",
    "As this is applied to radio-astronomy, we consider the case of a diameter $D=5.5m$ (the opening aperture of our telescope), a wavelength of $\\lambda = 2mm$ (the frequency of the incoming light), and we will look at the beam out to an angle of $\\theta = 25\\,\\text{arcmin}$.  A second airy disc is shown with some noise, which we will use to study the effects of noise on optical performance.\n",
    "\n",
    "It is common for beams to be plotted in **decibel** units.  This is helpful for seeing side-lobes, i.e. how the beam behaves at wide angles.\n",
    "$$ I(\\theta) [dB] = 10\\log_{10} (I(\\theta))$$"
   ]
  },
  {
   "cell_type": "code",
   "execution_count": 6,
   "metadata": {
    "tags": []
   },
   "outputs": [],
   "source": [
    "import numpy as np\n",
    "from scipy.special import jv\n",
    "from scipy import integrate, interpolate\n",
    "import matplotlib\n",
    "import matplotlib.pyplot as plt\n",
    "import optic_funcs as of\n",
    "\n",
    "matplotlib.rcParams[\"font.size\"] = 18\n",
    "matplotlib.rcParams.update(\n",
    "    {\n",
    "        \"axes.grid\": True,\n",
    "        \"grid.color\": \"grey\",\n",
    "        \"grid.alpha\": 0.2,\n",
    "        \"xtick.direction\": \"in\",\n",
    "        \"ytick.direction\": \"in\",\n",
    "    }\n",
    ")\n",
    "# %load_ext blackcellmagic\n",
    "\n",
    "\n",
    "def psf(theta_x, diameter_mm, lambda_mm):\n",
    "    x = np.pi * diameter_mm * np.sin(theta_x) / lambda_mm\n",
    "    I = (2 * jv(1, x) / x) ** 2\n",
    "    return I\n",
    "\n",
    "\n",
    "diameters = 1e3 * np.array([5.5])  # Diameter of aperture of LAT [mm]\n",
    "THETA_MAX_ARCMIN = 25\n",
    "theta_arcmin = np.linspace(0, THETA_MAX_ARCMIN, 1000)\n",
    "theta_arcmin[0] = 1e-5\n",
    "theta_rad = np.deg2rad(theta_arcmin / 60.0)\n",
    "LAMBDA_MM = 2\n",
    "\n",
    "# An ideal PSF\n",
    "I_ideal = psf(theta_rad, diameters[0], LAMBDA_MM)\n",
    "\n",
    "# Add noise to PSF\n",
    "noise = abs(np.random.normal(0, 1, len(theta_rad))) * 5e-4\n",
    "I_test = psf(theta_rad, diameters[0], LAMBDA_MM) + noise\n",
    "\n",
    "fig, axes = plt.subplots(1, 1, figsize=(6, 5))\n",
    "axes.plot(of.rad2arcmin(theta_rad), 10 * np.log10(I_test), color=\"#570efc\")\n",
    "axes.plot(of.rad2arcmin(theta_rad), 10 * np.log10(I_ideal), color=\"#e42536\")\n",
    "axes.set_title(\"Airy Pattern\")\n",
    "axes.set_ylabel(\"Amplitude [dB]\")\n",
    "axes.set_xlabel(\"Radius [arcmin.]\")\n",
    "axes.set_ylim(-55, 2)\n",
    "plt.show()"
   ]
  },
  {
   "cell_type": "markdown",
   "metadata": {},
   "source": [
    "Now let's **gain-normalize** the beam.  Gain quantifies the directional power of an antenna (in this case, our telesope).  First, we compute the solid angle of the beam, which takes into account the directional power distribution of the beam.  Remember to normalize the beam $I(\\theta)$ before integrating!\n",
    "$$ \\Omega = 2\\pi \\int_{\\theta_{min}}^{\\theta_{max}}I(\\theta)\\sin(\\theta)d\\theta$$\n",
    "We then gain-normalize the beam with this solid angle, and our beam $I_G(\\theta)$ is now in units of dBi (decibels over isotropic), rather than the previously used dB.  This is an important step because we will compare the maximum gain of our beam to that of a perfect Airy disc to get the final Strehl ratio. \n",
    "$$ I_G(\\theta) = \\frac{4\\pi}{\\Omega}I(\\theta)$$"
   ]
  },
  {
   "cell_type": "code",
   "execution_count": 3,
   "metadata": {
    "tags": []
   },
   "outputs": [],
   "source": [
    "def integrand(x, lambda_mm):\n",
    "    integ = psf(x, diameter_mm=diameters[0], lambda_mm=lambda_mm) * np.sin(x)\n",
    "    return integ\n",
    "\n",
    "\n",
    "p_i = np.min(theta_rad)\n",
    "p_f = np.max(theta_rad)\n",
    "omega_int = integrate.quad(integrand, p_i, p_f, args=(2))\n",
    "Omega = 2 * np.pi * omega_int[0]\n",
    "I_gn = (4 * np.pi / Omega) * I_ideal\n",
    "\n",
    "integrand_test = interpolate.interp1d(theta_rad, I_test * np.sin(theta_rad))\n",
    "omega_int = integrate.quad(integrand_test, p_i, p_f)\n",
    "Omega = 2 * np.pi * omega_int[0]\n",
    "I_gn_test = (4 * np.pi / Omega) * I_test\n",
    "\n",
    "# Plot the gain-normalized beams\n",
    "fig, axes = plt.subplots(1, 1, figsize=(6, 5))\n",
    "axes.plot(of.rad2arcmin(theta_rad), 10 * np.log10(I_gn_test), color=\"#570efc\")\n",
    "axes.plot(of.rad2arcmin(theta_rad), 10 * np.log10(I_gn), color=\"#e42536\")\n",
    "axes.set_title(\"Gain-Normalized Airy Pattern\")\n",
    "axes.set_ylabel(\"Amplitude [dBi]\")\n",
    "axes.set_xlabel(\"Radius [arcmin.]\")\n",
    "axes.set_ylim(25, np.max(10 * np.log10(I_gn)) + 4)\n",
    "plt.show()"
   ]
  },
  {
   "cell_type": "markdown",
   "metadata": {},
   "source": [
    "The strehl ratio quantifies the quality of an optical system.  Here, we will find the strehl ratio of our noisy Airy disc.  A strehl ratio of $>0.8$ means the system \"diffraction limited\", (i.e. the resolution of the beam is at the ideal theoretical limit defined by the design of the instrument).\n",
    "\n",
    "We have already found the gain-normalized beams.  Then, the strehl ratio is just the ratio of the peak gains (in dB scale):\n",
    "$$S = \\frac{10\\log_{10}(I_{\\text{test}})}{10\\log_{10}(I_{\\text{ideal}})}$$"
   ]
  },
  {
   "cell_type": "code",
   "execution_count": 4,
   "metadata": {},
   "outputs": [],
   "source": [
    "strehl = np.max(I_gn_test) / np.max(I_gn)\n",
    "print(\"Strehl Ratio: %.2f\" % strehl)"
   ]
  }
 ],
 "metadata": {
  "kernelspec": {
   "display_name": "Python 3",
   "language": "python",
   "name": "python3"
  },
  "language_info": {
   "codemirror_mode": {
    "name": "ipython",
    "version": 3
   },
   "file_extension": ".py",
   "mimetype": "text/x-python",
   "name": "python",
   "nbconvert_exporter": "python",
   "pygments_lexer": "ipython3",
   "version": "3.8.5"
  }
 },
 "nbformat": 4,
 "nbformat_minor": 4
}
